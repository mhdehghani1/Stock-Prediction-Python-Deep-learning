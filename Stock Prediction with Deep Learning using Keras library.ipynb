{
  "nbformat": 4,
  "nbformat_minor": 0,
  "metadata": {
    "colab": {
      "provenance": []
    },
    "kernelspec": {
      "name": "python3",
      "display_name": "Python 3"
    },
    "language_info": {
      "name": "python"
    }
  },
  "cells": [
    {
      "cell_type": "markdown",
      "source": [
        "1-Yeganeh Shafiee <br>\n",
        "2-Maryam Gazichi <br>\n",
        "3-Hasan Zohrevand <br>\n",
        "4-Amir Hoseyn Ardalan <br>\n",
        "5-Masoud Nematollahi <br>"
      ],
      "metadata": {
        "id": "ciJh9fTY2W1M"
      }
    },
    {
      "cell_type": "code",
      "execution_count": 1,
      "metadata": {
        "colab": {
          "base_uri": "https://localhost:8080/"
        },
        "id": "NK1sSEc32OcH",
        "outputId": "c2904be4-a262-4a38-8ab8-8c848b4cd355"
      },
      "outputs": [
        {
          "output_type": "stream",
          "name": "stdout",
          "text": [
            "Mounted at /content/drive\n"
          ]
        }
      ],
      "source": [
        "from google.colab import drive\n",
        "drive.mount('/content/drive')"
      ]
    },
    {
      "cell_type": "code",
      "source": [
        "import numpy as np \n",
        "import pandas as pd \n",
        "import matplotlib.pyplot as plt\n",
        "from matplotlib.pyplot import figure"
      ],
      "metadata": {
        "id": "IMwOrqsP85oJ"
      },
      "execution_count": 2,
      "outputs": []
    },
    {
      "cell_type": "code",
      "source": [
        "ds_path = '/content/drive/MyDrive/meta_stock_prediction/META.csv'"
      ],
      "metadata": {
        "id": "job0BZxo9PcC"
      },
      "execution_count": 3,
      "outputs": []
    },
    {
      "cell_type": "code",
      "source": [
        "meta_ds = pd.read_csv(ds_path)"
      ],
      "metadata": {
        "id": "y6-hI3jb9c7Y"
      },
      "execution_count": 4,
      "outputs": []
    },
    {
      "cell_type": "code",
      "source": [
        "meta_ds.head()"
      ],
      "metadata": {
        "colab": {
          "base_uri": "https://localhost:8080/",
          "height": 206
        },
        "id": "UwJQT8sJ9jsM",
        "outputId": "e6d38534-3ded-4bfd-c5dd-afea2165bd3f"
      },
      "execution_count": 5,
      "outputs": [
        {
          "output_type": "execute_result",
          "data": {
            "text/plain": [
              "         Date        Open        High         Low       Close   Adj Close  \\\n",
              "0  2017-09-05  171.270004  172.389999  169.550003  170.720001  170.720001   \n",
              "1  2017-09-06  170.910004  172.479996  169.570007  172.089996  172.089996   \n",
              "2  2017-09-07  171.940002  173.309998  170.270004  173.210007  173.210007   \n",
              "3  2017-09-08  173.089996  173.490005  170.800003  170.949997  170.949997   \n",
              "4  2017-09-11  172.399994  173.889999  172.199997  173.509995  173.509995   \n",
              "\n",
              "     Volume  \n",
              "0  13210900  \n",
              "1  13906300  \n",
              "2  18049500  \n",
              "3  10998500  \n",
              "4  12372000  "
            ],
            "text/html": [
              "\n",
              "  <div id=\"df-7c52f226-9f1b-4b4f-9fea-6818b2731475\">\n",
              "    <div class=\"colab-df-container\">\n",
              "      <div>\n",
              "<style scoped>\n",
              "    .dataframe tbody tr th:only-of-type {\n",
              "        vertical-align: middle;\n",
              "    }\n",
              "\n",
              "    .dataframe tbody tr th {\n",
              "        vertical-align: top;\n",
              "    }\n",
              "\n",
              "    .dataframe thead th {\n",
              "        text-align: right;\n",
              "    }\n",
              "</style>\n",
              "<table border=\"1\" class=\"dataframe\">\n",
              "  <thead>\n",
              "    <tr style=\"text-align: right;\">\n",
              "      <th></th>\n",
              "      <th>Date</th>\n",
              "      <th>Open</th>\n",
              "      <th>High</th>\n",
              "      <th>Low</th>\n",
              "      <th>Close</th>\n",
              "      <th>Adj Close</th>\n",
              "      <th>Volume</th>\n",
              "    </tr>\n",
              "  </thead>\n",
              "  <tbody>\n",
              "    <tr>\n",
              "      <th>0</th>\n",
              "      <td>2017-09-05</td>\n",
              "      <td>171.270004</td>\n",
              "      <td>172.389999</td>\n",
              "      <td>169.550003</td>\n",
              "      <td>170.720001</td>\n",
              "      <td>170.720001</td>\n",
              "      <td>13210900</td>\n",
              "    </tr>\n",
              "    <tr>\n",
              "      <th>1</th>\n",
              "      <td>2017-09-06</td>\n",
              "      <td>170.910004</td>\n",
              "      <td>172.479996</td>\n",
              "      <td>169.570007</td>\n",
              "      <td>172.089996</td>\n",
              "      <td>172.089996</td>\n",
              "      <td>13906300</td>\n",
              "    </tr>\n",
              "    <tr>\n",
              "      <th>2</th>\n",
              "      <td>2017-09-07</td>\n",
              "      <td>171.940002</td>\n",
              "      <td>173.309998</td>\n",
              "      <td>170.270004</td>\n",
              "      <td>173.210007</td>\n",
              "      <td>173.210007</td>\n",
              "      <td>18049500</td>\n",
              "    </tr>\n",
              "    <tr>\n",
              "      <th>3</th>\n",
              "      <td>2017-09-08</td>\n",
              "      <td>173.089996</td>\n",
              "      <td>173.490005</td>\n",
              "      <td>170.800003</td>\n",
              "      <td>170.949997</td>\n",
              "      <td>170.949997</td>\n",
              "      <td>10998500</td>\n",
              "    </tr>\n",
              "    <tr>\n",
              "      <th>4</th>\n",
              "      <td>2017-09-11</td>\n",
              "      <td>172.399994</td>\n",
              "      <td>173.889999</td>\n",
              "      <td>172.199997</td>\n",
              "      <td>173.509995</td>\n",
              "      <td>173.509995</td>\n",
              "      <td>12372000</td>\n",
              "    </tr>\n",
              "  </tbody>\n",
              "</table>\n",
              "</div>\n",
              "      <button class=\"colab-df-convert\" onclick=\"convertToInteractive('df-7c52f226-9f1b-4b4f-9fea-6818b2731475')\"\n",
              "              title=\"Convert this dataframe to an interactive table.\"\n",
              "              style=\"display:none;\">\n",
              "        \n",
              "  <svg xmlns=\"http://www.w3.org/2000/svg\" height=\"24px\"viewBox=\"0 0 24 24\"\n",
              "       width=\"24px\">\n",
              "    <path d=\"M0 0h24v24H0V0z\" fill=\"none\"/>\n",
              "    <path d=\"M18.56 5.44l.94 2.06.94-2.06 2.06-.94-2.06-.94-.94-2.06-.94 2.06-2.06.94zm-11 1L8.5 8.5l.94-2.06 2.06-.94-2.06-.94L8.5 2.5l-.94 2.06-2.06.94zm10 10l.94 2.06.94-2.06 2.06-.94-2.06-.94-.94-2.06-.94 2.06-2.06.94z\"/><path d=\"M17.41 7.96l-1.37-1.37c-.4-.4-.92-.59-1.43-.59-.52 0-1.04.2-1.43.59L10.3 9.45l-7.72 7.72c-.78.78-.78 2.05 0 2.83L4 21.41c.39.39.9.59 1.41.59.51 0 1.02-.2 1.41-.59l7.78-7.78 2.81-2.81c.8-.78.8-2.07 0-2.86zM5.41 20L4 18.59l7.72-7.72 1.47 1.35L5.41 20z\"/>\n",
              "  </svg>\n",
              "      </button>\n",
              "      \n",
              "  <style>\n",
              "    .colab-df-container {\n",
              "      display:flex;\n",
              "      flex-wrap:wrap;\n",
              "      gap: 12px;\n",
              "    }\n",
              "\n",
              "    .colab-df-convert {\n",
              "      background-color: #E8F0FE;\n",
              "      border: none;\n",
              "      border-radius: 50%;\n",
              "      cursor: pointer;\n",
              "      display: none;\n",
              "      fill: #1967D2;\n",
              "      height: 32px;\n",
              "      padding: 0 0 0 0;\n",
              "      width: 32px;\n",
              "    }\n",
              "\n",
              "    .colab-df-convert:hover {\n",
              "      background-color: #E2EBFA;\n",
              "      box-shadow: 0px 1px 2px rgba(60, 64, 67, 0.3), 0px 1px 3px 1px rgba(60, 64, 67, 0.15);\n",
              "      fill: #174EA6;\n",
              "    }\n",
              "\n",
              "    [theme=dark] .colab-df-convert {\n",
              "      background-color: #3B4455;\n",
              "      fill: #D2E3FC;\n",
              "    }\n",
              "\n",
              "    [theme=dark] .colab-df-convert:hover {\n",
              "      background-color: #434B5C;\n",
              "      box-shadow: 0px 1px 3px 1px rgba(0, 0, 0, 0.15);\n",
              "      filter: drop-shadow(0px 1px 2px rgba(0, 0, 0, 0.3));\n",
              "      fill: #FFFFFF;\n",
              "    }\n",
              "  </style>\n",
              "\n",
              "      <script>\n",
              "        const buttonEl =\n",
              "          document.querySelector('#df-7c52f226-9f1b-4b4f-9fea-6818b2731475 button.colab-df-convert');\n",
              "        buttonEl.style.display =\n",
              "          google.colab.kernel.accessAllowed ? 'block' : 'none';\n",
              "\n",
              "        async function convertToInteractive(key) {\n",
              "          const element = document.querySelector('#df-7c52f226-9f1b-4b4f-9fea-6818b2731475');\n",
              "          const dataTable =\n",
              "            await google.colab.kernel.invokeFunction('convertToInteractive',\n",
              "                                                     [key], {});\n",
              "          if (!dataTable) return;\n",
              "\n",
              "          const docLinkHtml = 'Like what you see? Visit the ' +\n",
              "            '<a target=\"_blank\" href=https://colab.research.google.com/notebooks/data_table.ipynb>data table notebook</a>'\n",
              "            + ' to learn more about interactive tables.';\n",
              "          element.innerHTML = '';\n",
              "          dataTable['output_type'] = 'display_data';\n",
              "          await google.colab.output.renderOutput(dataTable, element);\n",
              "          const docLink = document.createElement('div');\n",
              "          docLink.innerHTML = docLinkHtml;\n",
              "          element.appendChild(docLink);\n",
              "        }\n",
              "      </script>\n",
              "    </div>\n",
              "  </div>\n",
              "  "
            ]
          },
          "metadata": {},
          "execution_count": 5
        }
      ]
    },
    {
      "cell_type": "code",
      "source": [
        "meta_ds.tail()"
      ],
      "metadata": {
        "colab": {
          "base_uri": "https://localhost:8080/",
          "height": 206
        },
        "id": "EcHKtLVB9mXY",
        "outputId": "85b90865-25a0-4f32-9759-d3568c4bafbf"
      },
      "execution_count": 6,
      "outputs": [
        {
          "output_type": "execute_result",
          "data": {
            "text/plain": [
              "            Date        Open        High         Low       Close   Adj Close  \\\n",
              "1254  2022-08-29  160.660004  163.050003  159.009995  159.169998  159.169998   \n",
              "1255  2022-08-30  160.350006  161.660004  155.910004  157.160004  157.160004   \n",
              "1256  2022-08-31  167.070007  167.839996  162.139999  162.929993  162.929993   \n",
              "1257  2022-09-01  163.580002  167.360001  160.350006  165.360001  165.360001   \n",
              "1258  2022-09-02  167.449997  167.929993  159.220001  160.320007  160.320007   \n",
              "\n",
              "        Volume  \n",
              "1254  20052700  \n",
              "1255  19567900  \n",
              "1256  40953000  \n",
              "1257  30145700  \n",
              "1258  22609100  "
            ],
            "text/html": [
              "\n",
              "  <div id=\"df-293af899-c0e0-4cd1-acd2-46bc3426aabe\">\n",
              "    <div class=\"colab-df-container\">\n",
              "      <div>\n",
              "<style scoped>\n",
              "    .dataframe tbody tr th:only-of-type {\n",
              "        vertical-align: middle;\n",
              "    }\n",
              "\n",
              "    .dataframe tbody tr th {\n",
              "        vertical-align: top;\n",
              "    }\n",
              "\n",
              "    .dataframe thead th {\n",
              "        text-align: right;\n",
              "    }\n",
              "</style>\n",
              "<table border=\"1\" class=\"dataframe\">\n",
              "  <thead>\n",
              "    <tr style=\"text-align: right;\">\n",
              "      <th></th>\n",
              "      <th>Date</th>\n",
              "      <th>Open</th>\n",
              "      <th>High</th>\n",
              "      <th>Low</th>\n",
              "      <th>Close</th>\n",
              "      <th>Adj Close</th>\n",
              "      <th>Volume</th>\n",
              "    </tr>\n",
              "  </thead>\n",
              "  <tbody>\n",
              "    <tr>\n",
              "      <th>1254</th>\n",
              "      <td>2022-08-29</td>\n",
              "      <td>160.660004</td>\n",
              "      <td>163.050003</td>\n",
              "      <td>159.009995</td>\n",
              "      <td>159.169998</td>\n",
              "      <td>159.169998</td>\n",
              "      <td>20052700</td>\n",
              "    </tr>\n",
              "    <tr>\n",
              "      <th>1255</th>\n",
              "      <td>2022-08-30</td>\n",
              "      <td>160.350006</td>\n",
              "      <td>161.660004</td>\n",
              "      <td>155.910004</td>\n",
              "      <td>157.160004</td>\n",
              "      <td>157.160004</td>\n",
              "      <td>19567900</td>\n",
              "    </tr>\n",
              "    <tr>\n",
              "      <th>1256</th>\n",
              "      <td>2022-08-31</td>\n",
              "      <td>167.070007</td>\n",
              "      <td>167.839996</td>\n",
              "      <td>162.139999</td>\n",
              "      <td>162.929993</td>\n",
              "      <td>162.929993</td>\n",
              "      <td>40953000</td>\n",
              "    </tr>\n",
              "    <tr>\n",
              "      <th>1257</th>\n",
              "      <td>2022-09-01</td>\n",
              "      <td>163.580002</td>\n",
              "      <td>167.360001</td>\n",
              "      <td>160.350006</td>\n",
              "      <td>165.360001</td>\n",
              "      <td>165.360001</td>\n",
              "      <td>30145700</td>\n",
              "    </tr>\n",
              "    <tr>\n",
              "      <th>1258</th>\n",
              "      <td>2022-09-02</td>\n",
              "      <td>167.449997</td>\n",
              "      <td>167.929993</td>\n",
              "      <td>159.220001</td>\n",
              "      <td>160.320007</td>\n",
              "      <td>160.320007</td>\n",
              "      <td>22609100</td>\n",
              "    </tr>\n",
              "  </tbody>\n",
              "</table>\n",
              "</div>\n",
              "      <button class=\"colab-df-convert\" onclick=\"convertToInteractive('df-293af899-c0e0-4cd1-acd2-46bc3426aabe')\"\n",
              "              title=\"Convert this dataframe to an interactive table.\"\n",
              "              style=\"display:none;\">\n",
              "        \n",
              "  <svg xmlns=\"http://www.w3.org/2000/svg\" height=\"24px\"viewBox=\"0 0 24 24\"\n",
              "       width=\"24px\">\n",
              "    <path d=\"M0 0h24v24H0V0z\" fill=\"none\"/>\n",
              "    <path d=\"M18.56 5.44l.94 2.06.94-2.06 2.06-.94-2.06-.94-.94-2.06-.94 2.06-2.06.94zm-11 1L8.5 8.5l.94-2.06 2.06-.94-2.06-.94L8.5 2.5l-.94 2.06-2.06.94zm10 10l.94 2.06.94-2.06 2.06-.94-2.06-.94-.94-2.06-.94 2.06-2.06.94z\"/><path d=\"M17.41 7.96l-1.37-1.37c-.4-.4-.92-.59-1.43-.59-.52 0-1.04.2-1.43.59L10.3 9.45l-7.72 7.72c-.78.78-.78 2.05 0 2.83L4 21.41c.39.39.9.59 1.41.59.51 0 1.02-.2 1.41-.59l7.78-7.78 2.81-2.81c.8-.78.8-2.07 0-2.86zM5.41 20L4 18.59l7.72-7.72 1.47 1.35L5.41 20z\"/>\n",
              "  </svg>\n",
              "      </button>\n",
              "      \n",
              "  <style>\n",
              "    .colab-df-container {\n",
              "      display:flex;\n",
              "      flex-wrap:wrap;\n",
              "      gap: 12px;\n",
              "    }\n",
              "\n",
              "    .colab-df-convert {\n",
              "      background-color: #E8F0FE;\n",
              "      border: none;\n",
              "      border-radius: 50%;\n",
              "      cursor: pointer;\n",
              "      display: none;\n",
              "      fill: #1967D2;\n",
              "      height: 32px;\n",
              "      padding: 0 0 0 0;\n",
              "      width: 32px;\n",
              "    }\n",
              "\n",
              "    .colab-df-convert:hover {\n",
              "      background-color: #E2EBFA;\n",
              "      box-shadow: 0px 1px 2px rgba(60, 64, 67, 0.3), 0px 1px 3px 1px rgba(60, 64, 67, 0.15);\n",
              "      fill: #174EA6;\n",
              "    }\n",
              "\n",
              "    [theme=dark] .colab-df-convert {\n",
              "      background-color: #3B4455;\n",
              "      fill: #D2E3FC;\n",
              "    }\n",
              "\n",
              "    [theme=dark] .colab-df-convert:hover {\n",
              "      background-color: #434B5C;\n",
              "      box-shadow: 0px 1px 3px 1px rgba(0, 0, 0, 0.15);\n",
              "      filter: drop-shadow(0px 1px 2px rgba(0, 0, 0, 0.3));\n",
              "      fill: #FFFFFF;\n",
              "    }\n",
              "  </style>\n",
              "\n",
              "      <script>\n",
              "        const buttonEl =\n",
              "          document.querySelector('#df-293af899-c0e0-4cd1-acd2-46bc3426aabe button.colab-df-convert');\n",
              "        buttonEl.style.display =\n",
              "          google.colab.kernel.accessAllowed ? 'block' : 'none';\n",
              "\n",
              "        async function convertToInteractive(key) {\n",
              "          const element = document.querySelector('#df-293af899-c0e0-4cd1-acd2-46bc3426aabe');\n",
              "          const dataTable =\n",
              "            await google.colab.kernel.invokeFunction('convertToInteractive',\n",
              "                                                     [key], {});\n",
              "          if (!dataTable) return;\n",
              "\n",
              "          const docLinkHtml = 'Like what you see? Visit the ' +\n",
              "            '<a target=\"_blank\" href=https://colab.research.google.com/notebooks/data_table.ipynb>data table notebook</a>'\n",
              "            + ' to learn more about interactive tables.';\n",
              "          element.innerHTML = '';\n",
              "          dataTable['output_type'] = 'display_data';\n",
              "          await google.colab.output.renderOutput(dataTable, element);\n",
              "          const docLink = document.createElement('div');\n",
              "          docLink.innerHTML = docLinkHtml;\n",
              "          element.appendChild(docLink);\n",
              "        }\n",
              "      </script>\n",
              "    </div>\n",
              "  </div>\n",
              "  "
            ]
          },
          "metadata": {},
          "execution_count": 6
        }
      ]
    },
    {
      "cell_type": "code",
      "source": [
        "meta_ds.describe()"
      ],
      "metadata": {
        "colab": {
          "base_uri": "https://localhost:8080/",
          "height": 300
        },
        "id": "9h7Zo0gh9yi4",
        "outputId": "cfcce720-7c6c-457c-e6fd-92614a7493ca"
      },
      "execution_count": 7,
      "outputs": [
        {
          "output_type": "execute_result",
          "data": {
            "text/plain": [
              "              Open         High          Low        Close    Adj Close  \\\n",
              "count  1259.000000  1259.000000  1259.000000  1259.000000  1259.000000   \n",
              "mean    221.148284   224.079778   218.242907   221.189444   221.189444   \n",
              "std      63.210146    63.867548    62.578760    63.230023    63.230023   \n",
              "min     123.099998   129.740005   123.019997   124.059998   124.059998   \n",
              "25%     175.275002   177.139999   173.029999   175.160004   175.160004   \n",
              "50%     194.699997   197.389999   192.119995   194.470001   194.470001   \n",
              "75%     267.820007   270.434998   263.919998   266.865006   266.865006   \n",
              "max     381.679993   384.329987   378.809998   382.179993   382.179993   \n",
              "\n",
              "             Volume  \n",
              "count  1.259000e+03  \n",
              "mean   2.244455e+07  \n",
              "std    1.445663e+07  \n",
              "min    6.046300e+06  \n",
              "25%    1.417535e+07  \n",
              "50%    1.884450e+07  \n",
              "75%    2.600460e+07  \n",
              "max    1.881199e+08  "
            ],
            "text/html": [
              "\n",
              "  <div id=\"df-d8137416-be0a-425b-8429-0a23ae3d70ac\">\n",
              "    <div class=\"colab-df-container\">\n",
              "      <div>\n",
              "<style scoped>\n",
              "    .dataframe tbody tr th:only-of-type {\n",
              "        vertical-align: middle;\n",
              "    }\n",
              "\n",
              "    .dataframe tbody tr th {\n",
              "        vertical-align: top;\n",
              "    }\n",
              "\n",
              "    .dataframe thead th {\n",
              "        text-align: right;\n",
              "    }\n",
              "</style>\n",
              "<table border=\"1\" class=\"dataframe\">\n",
              "  <thead>\n",
              "    <tr style=\"text-align: right;\">\n",
              "      <th></th>\n",
              "      <th>Open</th>\n",
              "      <th>High</th>\n",
              "      <th>Low</th>\n",
              "      <th>Close</th>\n",
              "      <th>Adj Close</th>\n",
              "      <th>Volume</th>\n",
              "    </tr>\n",
              "  </thead>\n",
              "  <tbody>\n",
              "    <tr>\n",
              "      <th>count</th>\n",
              "      <td>1259.000000</td>\n",
              "      <td>1259.000000</td>\n",
              "      <td>1259.000000</td>\n",
              "      <td>1259.000000</td>\n",
              "      <td>1259.000000</td>\n",
              "      <td>1.259000e+03</td>\n",
              "    </tr>\n",
              "    <tr>\n",
              "      <th>mean</th>\n",
              "      <td>221.148284</td>\n",
              "      <td>224.079778</td>\n",
              "      <td>218.242907</td>\n",
              "      <td>221.189444</td>\n",
              "      <td>221.189444</td>\n",
              "      <td>2.244455e+07</td>\n",
              "    </tr>\n",
              "    <tr>\n",
              "      <th>std</th>\n",
              "      <td>63.210146</td>\n",
              "      <td>63.867548</td>\n",
              "      <td>62.578760</td>\n",
              "      <td>63.230023</td>\n",
              "      <td>63.230023</td>\n",
              "      <td>1.445663e+07</td>\n",
              "    </tr>\n",
              "    <tr>\n",
              "      <th>min</th>\n",
              "      <td>123.099998</td>\n",
              "      <td>129.740005</td>\n",
              "      <td>123.019997</td>\n",
              "      <td>124.059998</td>\n",
              "      <td>124.059998</td>\n",
              "      <td>6.046300e+06</td>\n",
              "    </tr>\n",
              "    <tr>\n",
              "      <th>25%</th>\n",
              "      <td>175.275002</td>\n",
              "      <td>177.139999</td>\n",
              "      <td>173.029999</td>\n",
              "      <td>175.160004</td>\n",
              "      <td>175.160004</td>\n",
              "      <td>1.417535e+07</td>\n",
              "    </tr>\n",
              "    <tr>\n",
              "      <th>50%</th>\n",
              "      <td>194.699997</td>\n",
              "      <td>197.389999</td>\n",
              "      <td>192.119995</td>\n",
              "      <td>194.470001</td>\n",
              "      <td>194.470001</td>\n",
              "      <td>1.884450e+07</td>\n",
              "    </tr>\n",
              "    <tr>\n",
              "      <th>75%</th>\n",
              "      <td>267.820007</td>\n",
              "      <td>270.434998</td>\n",
              "      <td>263.919998</td>\n",
              "      <td>266.865006</td>\n",
              "      <td>266.865006</td>\n",
              "      <td>2.600460e+07</td>\n",
              "    </tr>\n",
              "    <tr>\n",
              "      <th>max</th>\n",
              "      <td>381.679993</td>\n",
              "      <td>384.329987</td>\n",
              "      <td>378.809998</td>\n",
              "      <td>382.179993</td>\n",
              "      <td>382.179993</td>\n",
              "      <td>1.881199e+08</td>\n",
              "    </tr>\n",
              "  </tbody>\n",
              "</table>\n",
              "</div>\n",
              "      <button class=\"colab-df-convert\" onclick=\"convertToInteractive('df-d8137416-be0a-425b-8429-0a23ae3d70ac')\"\n",
              "              title=\"Convert this dataframe to an interactive table.\"\n",
              "              style=\"display:none;\">\n",
              "        \n",
              "  <svg xmlns=\"http://www.w3.org/2000/svg\" height=\"24px\"viewBox=\"0 0 24 24\"\n",
              "       width=\"24px\">\n",
              "    <path d=\"M0 0h24v24H0V0z\" fill=\"none\"/>\n",
              "    <path d=\"M18.56 5.44l.94 2.06.94-2.06 2.06-.94-2.06-.94-.94-2.06-.94 2.06-2.06.94zm-11 1L8.5 8.5l.94-2.06 2.06-.94-2.06-.94L8.5 2.5l-.94 2.06-2.06.94zm10 10l.94 2.06.94-2.06 2.06-.94-2.06-.94-.94-2.06-.94 2.06-2.06.94z\"/><path d=\"M17.41 7.96l-1.37-1.37c-.4-.4-.92-.59-1.43-.59-.52 0-1.04.2-1.43.59L10.3 9.45l-7.72 7.72c-.78.78-.78 2.05 0 2.83L4 21.41c.39.39.9.59 1.41.59.51 0 1.02-.2 1.41-.59l7.78-7.78 2.81-2.81c.8-.78.8-2.07 0-2.86zM5.41 20L4 18.59l7.72-7.72 1.47 1.35L5.41 20z\"/>\n",
              "  </svg>\n",
              "      </button>\n",
              "      \n",
              "  <style>\n",
              "    .colab-df-container {\n",
              "      display:flex;\n",
              "      flex-wrap:wrap;\n",
              "      gap: 12px;\n",
              "    }\n",
              "\n",
              "    .colab-df-convert {\n",
              "      background-color: #E8F0FE;\n",
              "      border: none;\n",
              "      border-radius: 50%;\n",
              "      cursor: pointer;\n",
              "      display: none;\n",
              "      fill: #1967D2;\n",
              "      height: 32px;\n",
              "      padding: 0 0 0 0;\n",
              "      width: 32px;\n",
              "    }\n",
              "\n",
              "    .colab-df-convert:hover {\n",
              "      background-color: #E2EBFA;\n",
              "      box-shadow: 0px 1px 2px rgba(60, 64, 67, 0.3), 0px 1px 3px 1px rgba(60, 64, 67, 0.15);\n",
              "      fill: #174EA6;\n",
              "    }\n",
              "\n",
              "    [theme=dark] .colab-df-convert {\n",
              "      background-color: #3B4455;\n",
              "      fill: #D2E3FC;\n",
              "    }\n",
              "\n",
              "    [theme=dark] .colab-df-convert:hover {\n",
              "      background-color: #434B5C;\n",
              "      box-shadow: 0px 1px 3px 1px rgba(0, 0, 0, 0.15);\n",
              "      filter: drop-shadow(0px 1px 2px rgba(0, 0, 0, 0.3));\n",
              "      fill: #FFFFFF;\n",
              "    }\n",
              "  </style>\n",
              "\n",
              "      <script>\n",
              "        const buttonEl =\n",
              "          document.querySelector('#df-d8137416-be0a-425b-8429-0a23ae3d70ac button.colab-df-convert');\n",
              "        buttonEl.style.display =\n",
              "          google.colab.kernel.accessAllowed ? 'block' : 'none';\n",
              "\n",
              "        async function convertToInteractive(key) {\n",
              "          const element = document.querySelector('#df-d8137416-be0a-425b-8429-0a23ae3d70ac');\n",
              "          const dataTable =\n",
              "            await google.colab.kernel.invokeFunction('convertToInteractive',\n",
              "                                                     [key], {});\n",
              "          if (!dataTable) return;\n",
              "\n",
              "          const docLinkHtml = 'Like what you see? Visit the ' +\n",
              "            '<a target=\"_blank\" href=https://colab.research.google.com/notebooks/data_table.ipynb>data table notebook</a>'\n",
              "            + ' to learn more about interactive tables.';\n",
              "          element.innerHTML = '';\n",
              "          dataTable['output_type'] = 'display_data';\n",
              "          await google.colab.output.renderOutput(dataTable, element);\n",
              "          const docLink = document.createElement('div');\n",
              "          docLink.innerHTML = docLinkHtml;\n",
              "          element.appendChild(docLink);\n",
              "        }\n",
              "      </script>\n",
              "    </div>\n",
              "  </div>\n",
              "  "
            ]
          },
          "metadata": {},
          "execution_count": 7
        }
      ]
    },
    {
      "cell_type": "code",
      "source": [
        "meta_ds.shape"
      ],
      "metadata": {
        "colab": {
          "base_uri": "https://localhost:8080/"
        },
        "id": "ggwozCBD95GT",
        "outputId": "8f81f936-098f-4bbd-d218-d787c5d69053"
      },
      "execution_count": 8,
      "outputs": [
        {
          "output_type": "execute_result",
          "data": {
            "text/plain": [
              "(1259, 7)"
            ]
          },
          "metadata": {},
          "execution_count": 8
        }
      ]
    },
    {
      "cell_type": "code",
      "source": [
        "meta_ds.info()"
      ],
      "metadata": {
        "colab": {
          "base_uri": "https://localhost:8080/"
        },
        "id": "aeezYGzq-A6-",
        "outputId": "f9dcdccb-e9ad-44c4-ade9-3cfa4b622527"
      },
      "execution_count": 9,
      "outputs": [
        {
          "output_type": "stream",
          "name": "stdout",
          "text": [
            "<class 'pandas.core.frame.DataFrame'>\n",
            "RangeIndex: 1259 entries, 0 to 1258\n",
            "Data columns (total 7 columns):\n",
            " #   Column     Non-Null Count  Dtype  \n",
            "---  ------     --------------  -----  \n",
            " 0   Date       1259 non-null   object \n",
            " 1   Open       1259 non-null   float64\n",
            " 2   High       1259 non-null   float64\n",
            " 3   Low        1259 non-null   float64\n",
            " 4   Close      1259 non-null   float64\n",
            " 5   Adj Close  1259 non-null   float64\n",
            " 6   Volume     1259 non-null   int64  \n",
            "dtypes: float64(5), int64(1), object(1)\n",
            "memory usage: 69.0+ KB\n"
          ]
        }
      ]
    },
    {
      "cell_type": "code",
      "source": [
        "meta_ds_close = meta_ds.iloc[:, 4].values"
      ],
      "metadata": {
        "id": "fk1Ahiu--Hd9"
      },
      "execution_count": 10,
      "outputs": []
    },
    {
      "cell_type": "code",
      "source": [
        "meta_ds_close"
      ],
      "metadata": {
        "colab": {
          "base_uri": "https://localhost:8080/"
        },
        "id": "wkSHEcme-W18",
        "outputId": "b327af8b-9d48-4c68-b7e7-ebd2ebb06e06"
      },
      "execution_count": 11,
      "outputs": [
        {
          "output_type": "execute_result",
          "data": {
            "text/plain": [
              "array([170.720001, 172.089996, 173.210007, ..., 162.929993, 165.360001,\n",
              "       160.320007])"
            ]
          },
          "metadata": {},
          "execution_count": 11
        }
      ]
    },
    {
      "cell_type": "code",
      "source": [
        "meta_ds_close[0]"
      ],
      "metadata": {
        "colab": {
          "base_uri": "https://localhost:8080/"
        },
        "id": "LOgEm3NH-YsR",
        "outputId": "116583a6-df0d-489d-a3f4-2630bf9908ed"
      },
      "execution_count": 12,
      "outputs": [
        {
          "output_type": "execute_result",
          "data": {
            "text/plain": [
              "170.720001"
            ]
          },
          "metadata": {},
          "execution_count": 12
        }
      ]
    },
    {
      "cell_type": "code",
      "source": [
        "meta_ds_close.shape"
      ],
      "metadata": {
        "colab": {
          "base_uri": "https://localhost:8080/"
        },
        "id": "zlgxHc8b-dg2",
        "outputId": "72bd5d6b-6602-43fc-c8fe-39e6c4de191d"
      },
      "execution_count": 13,
      "outputs": [
        {
          "output_type": "execute_result",
          "data": {
            "text/plain": [
              "(1259,)"
            ]
          },
          "metadata": {},
          "execution_count": 13
        }
      ]
    },
    {
      "cell_type": "code",
      "source": [
        "figure(figsize=(15, 5))\n",
        "plt.plot(meta_ds_close)"
      ],
      "metadata": {
        "colab": {
          "base_uri": "https://localhost:8080/",
          "height": 338
        },
        "id": "SnHvcu0K-o84",
        "outputId": "776c0361-3bf6-4879-f73b-122819299833"
      },
      "execution_count": 16,
      "outputs": [
        {
          "output_type": "execute_result",
          "data": {
            "text/plain": [
              "[<matplotlib.lines.Line2D at 0x7f2d0d9d91d0>]"
            ]
          },
          "metadata": {},
          "execution_count": 16
        },
        {
          "output_type": "display_data",
          "data": {
            "text/plain": [
              "<Figure size 1080x360 with 1 Axes>"
            ],
            "image/png": "[encoded data removed]"
          },
          "metadata": {
            "needs_background": "light"
          }
        }
      ]
    },
    {
      "cell_type": "code",
      "source": [
        "from sklearn.preprocessing import MinMaxScaler\n",
        "scaler = MinMaxScaler()\n",
        "meta_ds_close_scaled = scaler.fit_transform(meta_ds_close.reshape(-1, 1))\n"
      ],
      "metadata": {
        "id": "tTAa-SQr-yRj"
      },
      "execution_count": 20,
      "outputs": []
    },
    {
      "cell_type": "code",
      "source": [
        "figure(figsize=(15, 5))\n",
        "plt.plot(meta_ds_close_scaled)"
      ],
      "metadata": {
        "colab": {
          "base_uri": "https://localhost:8080/",
          "height": 338
        },
        "id": "WLlhyjXA_P_c",
        "outputId": "fb81c933-75c4-4441-c169-b7897129e4f2"
      },
      "execution_count": 22,
      "outputs": [
        {
          "output_type": "execute_result",
          "data": {
            "text/plain": [
              "[<matplotlib.lines.Line2D at 0x7f2d01711a90>]"
            ]
          },
          "metadata": {},
          "execution_count": 22
        },
        {
          "output_type": "display_data",
          "data": {
            "text/plain": [
              "<Figure size 1080x360 with 1 Axes>"
            ],
            "image/png": "[encoded data removed]"
          },
          "metadata": {
            "needs_background": "light"
          }
        }
      ]
    },
    {
      "cell_type": "code",
      "source": [
        "X_meta_close = []\n",
        "y_meta_close = []"
      ],
      "metadata": {
        "id": "P67bON-5AGgH"
      },
      "execution_count": 23,
      "outputs": []
    },
    {
      "cell_type": "code",
      "source": [
        "for i in range(40, len(meta_ds_close_scaled)):\n",
        "  X_meta_close.append(meta_ds_close_scaled[i-40:i, 0])\n",
        "  y_meta_close.append(meta_ds_close_scaled[i, 0])"
      ],
      "metadata": {
        "id": "WESj6nzQAYd8"
      },
      "execution_count": 24,
      "outputs": []
    },
    {
      "cell_type": "code",
      "source": [
        "X_meta_close = np.array(X_meta_close)\n",
        "y_meta_close = np.array(y_meta_close)"
      ],
      "metadata": {
        "id": "-I9DKQzhCc1f"
      },
      "execution_count": 26,
      "outputs": []
    },
    {
      "cell_type": "code",
      "source": [
        "X_meta_close.shape"
      ],
      "metadata": {
        "colab": {
          "base_uri": "https://localhost:8080/"
        },
        "id": "6E4GAWdOCgM0",
        "outputId": "86ca29e5-08ed-438b-aeeb-7aa5c1197d68"
      },
      "execution_count": 27,
      "outputs": [
        {
          "output_type": "execute_result",
          "data": {
            "text/plain": [
              "(1219, 40)"
            ]
          },
          "metadata": {},
          "execution_count": 27
        }
      ]
    },
    {
      "cell_type": "code",
      "source": [
        "X_meta_close = np.reshape(X_meta_close, (X_meta_close.shape[0], X_meta_close.shape[1], 1))"
      ],
      "metadata": {
        "id": "aQL0ljbcDGSe"
      },
      "execution_count": 28,
      "outputs": []
    },
    {
      "cell_type": "code",
      "source": [
        "X_meta_close.shape"
      ],
      "metadata": {
        "colab": {
          "base_uri": "https://localhost:8080/"
        },
        "id": "4NNqlX5LDjP2",
        "outputId": "9bc88324-e45b-4485-b93e-550595ccca12"
      },
      "execution_count": 29,
      "outputs": [
        {
          "output_type": "execute_result",
          "data": {
            "text/plain": [
              "(1219, 40, 1)"
            ]
          },
          "metadata": {},
          "execution_count": 29
        }
      ]
    },
    {
      "cell_type": "code",
      "source": [
        "y_meta_close = np.reshape(y_meta_close, (-1, 1))"
      ],
      "metadata": {
        "id": "I50IwN1lDl5u"
      },
      "execution_count": 30,
      "outputs": []
    },
    {
      "cell_type": "code",
      "source": [
        "y_meta_close.shape"
      ],
      "metadata": {
        "colab": {
          "base_uri": "https://localhost:8080/"
        },
        "id": "jYWba9MDD2fE",
        "outputId": "7f199413-2bee-413d-c722-e5d32256c977"
      },
      "execution_count": 31,
      "outputs": [
        {
          "output_type": "execute_result",
          "data": {
            "text/plain": [
              "(1219, 1)"
            ]
          },
          "metadata": {},
          "execution_count": 31
        }
      ]
    },
    {
      "cell_type": "code",
      "source": [
        "from sklearn.model_selection import train_test_split\n",
        "X_train, X_test, y_train, y_test = train_test_split(X_meta_close, y_meta_close, test_size = 0.2, random_state = 42)"
      ],
      "metadata": {
        "id": "dcJNLVdsD4tL"
      },
      "execution_count": 32,
      "outputs": []
    },
    {
      "cell_type": "code",
      "source": [
        "X_train.shape"
      ],
      "metadata": {
        "colab": {
          "base_uri": "https://localhost:8080/"
        },
        "id": "hxFabr0vEZNW",
        "outputId": "3f0d31bd-7611-4798-c40c-d7db5cd1d3c1"
      },
      "execution_count": 33,
      "outputs": [
        {
          "output_type": "execute_result",
          "data": {
            "text/plain": [
              "(975, 40, 1)"
            ]
          },
          "metadata": {},
          "execution_count": 33
        }
      ]
    },
    {
      "cell_type": "code",
      "source": [
        "y_train.shape"
      ],
      "metadata": {
        "colab": {
          "base_uri": "https://localhost:8080/"
        },
        "id": "n-23tRaPEhUW",
        "outputId": "eaf4df1b-ee26-47bb-eec4-b9fcb89c2b3f"
      },
      "execution_count": 34,
      "outputs": [
        {
          "output_type": "execute_result",
          "data": {
            "text/plain": [
              "(975, 1)"
            ]
          },
          "metadata": {},
          "execution_count": 34
        }
      ]
    },
    {
      "cell_type": "code",
      "source": [
        "from keras import Model\n",
        "from keras.layers import Input, Dense, Dropout\n",
        "from keras.layers.recurrent import LSTM\n"
      ],
      "metadata": {
        "id": "WHuI7ap1Ej3U"
      },
      "execution_count": 35,
      "outputs": []
    },
    {
      "cell_type": "code",
      "source": [
        "lss = 'mean_squared_error'\n",
        "\n",
        "def define_model(lss):\n",
        "  input1 = Input(shape=(40, 1))\n",
        "  x = LSTM(units = 64, return_sequences=True)(input1)\n",
        "  x = Dropout(0.2)(x)\n",
        "  x = LSTM(units = 64)(x)\n",
        "  x = Dropout(0.2)(x)\n",
        "  x = Dense(32, activation='softmax')(x)\n",
        "  dnn_output = Dense(1)(x)\n",
        "\n",
        "  model = Model(inputs=[input1], outputs=[dnn_output])\n",
        "\n",
        "  model.compile(loss= lss, optimizer='Adam')\n",
        "  model.summary()\n",
        "  return model\n",
        "\n",
        "\n"
      ],
      "metadata": {
        "id": "ot5WNxlbE2w4"
      },
      "execution_count": 36,
      "outputs": []
    },
    {
      "cell_type": "code",
      "source": [
        "model = define_model()"
      ],
      "metadata": {
        "colab": {
          "base_uri": "https://localhost:8080/"
        },
        "id": "A376WJPEHpJo",
        "outputId": "7c06b817-989b-4493-cd3e-6f2180d5b997"
      },
      "execution_count": 37,
      "outputs": [
        {
          "output_type": "stream",
          "name": "stdout",
          "text": [
            "Model: \"model\"\n",
            "_________________________________________________________________\n",
            " Layer (type)                Output Shape              Param #   \n",
            "=================================================================\n",
            " input_1 (InputLayer)        [(None, 40, 1)]           0         \n",
            "                                                                 \n",
            " lstm (LSTM)                 (None, 40, 64)            16896     \n",
            "                                                                 \n",
            " dropout (Dropout)           (None, 40, 64)            0         \n",
            "                                                                 \n",
            " lstm_1 (LSTM)               (None, 64)                33024     \n",
            "                                                                 \n",
            " dropout_1 (Dropout)         (None, 64)                0         \n",
            "                                                                 \n",
            " dense (Dense)               (None, 32)                2080      \n",
            "                                                                 \n",
            " dense_1 (Dense)             (None, 1)                 33        \n",
            "                                                                 \n",
            "=================================================================\n",
            "Total params: 52,033\n",
            "Trainable params: 52,033\n",
            "Non-trainable params: 0\n",
            "_________________________________________________________________\n"
          ]
        }
      ]
    },
    {
      "cell_type": "code",
      "source": [
        "history = model.fit(X_train, y_train, epochs= 300, batch_size=32, validation_split=0.1)"
      ],
      "metadata": {
        "colab": {
          "base_uri": "https://localhost:8080/"
        },
        "id": "X9vrFWjyHuln",
        "outputId": "e219d91d-13e8-438c-ffee-d36581dbd0e3"
      },
      "execution_count": 38,
      "outputs": [
        {
          "output_type": "stream",
          "name": "stdout",
          "text": [
            "Epoch 1/300\n",
            "28/28 [==============================] - 11s 120ms/step - loss: 0.1272 - val_loss: 0.0564\n",
            "Epoch 2/300\n",
            "28/28 [==============================] - 3s 99ms/step - loss: 0.0612 - val_loss: 0.0568\n",
            "Epoch 3/300\n",
            "28/28 [==============================] - 3s 101ms/step - loss: 0.0610 - val_loss: 0.0565\n",
            "Epoch 4/300\n",
            "28/28 [==============================] - 3s 97ms/step - loss: 0.0607 - val_loss: 0.0563\n",
            "Epoch 5/300\n",
            "28/28 [==============================] - 3s 96ms/step - loss: 0.0599 - val_loss: 0.0547\n",
            "Epoch 6/300\n",
            "28/28 [==============================] - 3s 99ms/step - loss: 0.0566 - val_loss: 0.0464\n",
            "Epoch 7/300\n",
            "28/28 [==============================] - 3s 97ms/step - loss: 0.0374 - val_loss: 0.0269\n",
            "Epoch 8/300\n",
            "28/28 [==============================] - 3s 99ms/step - loss: 0.0488 - val_loss: 0.0719\n",
            "Epoch 9/300\n",
            "28/28 [==============================] - 3s 99ms/step - loss: 0.0557 - val_loss: 0.0260\n",
            "Epoch 10/300\n",
            "28/28 [==============================] - 3s 99ms/step - loss: 0.0411 - val_loss: 0.0405\n",
            "Epoch 11/300\n",
            "28/28 [==============================] - 3s 98ms/step - loss: 0.0295 - val_loss: 0.0220\n",
            "Epoch 12/300\n",
            "28/28 [==============================] - 3s 97ms/step - loss: 0.0307 - val_loss: 0.0198\n",
            "Epoch 13/300\n",
            "28/28 [==============================] - 3s 97ms/step - loss: 0.0187 - val_loss: 0.0152\n",
            "Epoch 14/300\n",
            "28/28 [==============================] - 3s 97ms/step - loss: 0.0148 - val_loss: 0.0139\n",
            "Epoch 15/300\n",
            "28/28 [==============================] - 3s 101ms/step - loss: 0.0126 - val_loss: 0.0133\n",
            "Epoch 16/300\n",
            "28/28 [==============================] - 3s 97ms/step - loss: 0.0119 - val_loss: 0.0128\n",
            "Epoch 17/300\n",
            "28/28 [==============================] - 3s 96ms/step - loss: 0.0111 - val_loss: 0.0119\n",
            "Epoch 18/300\n",
            "28/28 [==============================] - 3s 97ms/step - loss: 0.0096 - val_loss: 0.0097\n",
            "Epoch 19/300\n",
            "28/28 [==============================] - 3s 97ms/step - loss: 0.0079 - val_loss: 0.0067\n",
            "Epoch 20/300\n",
            "28/28 [==============================] - 3s 96ms/step - loss: 0.0064 - val_loss: 0.0061\n",
            "Epoch 21/300\n",
            "28/28 [==============================] - 3s 96ms/step - loss: 0.0060 - val_loss: 0.0061\n",
            "Epoch 22/300\n",
            "28/28 [==============================] - 3s 96ms/step - loss: 0.0057 - val_loss: 0.0052\n",
            "Epoch 23/300\n",
            "28/28 [==============================] - 3s 97ms/step - loss: 0.0051 - val_loss: 0.0059\n",
            "Epoch 24/300\n",
            "28/28 [==============================] - 3s 97ms/step - loss: 0.0040 - val_loss: 0.0032\n",
            "Epoch 25/300\n",
            "28/28 [==============================] - 3s 97ms/step - loss: 0.0034 - val_loss: 0.0042\n",
            "Epoch 26/300\n",
            "28/28 [==============================] - 3s 97ms/step - loss: 0.0038 - val_loss: 0.0027\n",
            "Epoch 27/300\n",
            "28/28 [==============================] - 3s 99ms/step - loss: 0.0031 - val_loss: 0.0025\n",
            "Epoch 28/300\n",
            "28/28 [==============================] - 4s 135ms/step - loss: 0.0027 - val_loss: 0.0025\n",
            "Epoch 29/300\n",
            "28/28 [==============================] - 3s 100ms/step - loss: 0.0027 - val_loss: 0.0022\n",
            "Epoch 30/300\n",
            "28/28 [==============================] - 3s 97ms/step - loss: 0.0027 - val_loss: 0.0024\n",
            "Epoch 31/300\n",
            "28/28 [==============================] - 3s 97ms/step - loss: 0.0027 - val_loss: 0.0023\n",
            "Epoch 32/300\n",
            "28/28 [==============================] - 3s 96ms/step - loss: 0.0027 - val_loss: 0.0020\n",
            "Epoch 33/300\n",
            "28/28 [==============================] - 3s 97ms/step - loss: 0.0024 - val_loss: 0.0019\n",
            "Epoch 34/300\n",
            "28/28 [==============================] - 3s 97ms/step - loss: 0.0024 - val_loss: 0.0021\n",
            "Epoch 35/300\n",
            "28/28 [==============================] - 5s 164ms/step - loss: 0.0023 - val_loss: 0.0020\n",
            "Epoch 36/300\n",
            "28/28 [==============================] - 3s 96ms/step - loss: 0.0024 - val_loss: 0.0024\n",
            "Epoch 37/300\n",
            "28/28 [==============================] - 3s 96ms/step - loss: 0.0026 - val_loss: 0.0019\n",
            "Epoch 38/300\n",
            "28/28 [==============================] - 3s 97ms/step - loss: 0.0023 - val_loss: 0.0025\n",
            "Epoch 39/300\n",
            "28/28 [==============================] - 3s 98ms/step - loss: 0.0022 - val_loss: 0.0019\n",
            "Epoch 40/300\n",
            "28/28 [==============================] - 3s 96ms/step - loss: 0.0021 - val_loss: 0.0023\n",
            "Epoch 41/300\n",
            "28/28 [==============================] - 3s 96ms/step - loss: 0.0023 - val_loss: 0.0017\n",
            "Epoch 42/300\n",
            "28/28 [==============================] - 3s 96ms/step - loss: 0.0020 - val_loss: 0.0019\n",
            "Epoch 43/300\n",
            "28/28 [==============================] - 3s 98ms/step - loss: 0.0020 - val_loss: 0.0018\n",
            "Epoch 44/300\n",
            "28/28 [==============================] - 3s 99ms/step - loss: 0.0020 - val_loss: 0.0018\n",
            "Epoch 45/300\n",
            "28/28 [==============================] - 3s 97ms/step - loss: 0.0021 - val_loss: 0.0021\n",
            "Epoch 46/300\n",
            "28/28 [==============================] - 5s 195ms/step - loss: 0.0020 - val_loss: 0.0015\n",
            "Epoch 47/300\n",
            "28/28 [==============================] - 3s 97ms/step - loss: 0.0019 - val_loss: 0.0017\n",
            "Epoch 48/300\n",
            "28/28 [==============================] - 3s 98ms/step - loss: 0.0019 - val_loss: 0.0016\n",
            "Epoch 49/300\n",
            "28/28 [==============================] - 3s 96ms/step - loss: 0.0019 - val_loss: 0.0021\n",
            "Epoch 50/300\n",
            "28/28 [==============================] - 3s 95ms/step - loss: 0.0020 - val_loss: 0.0018\n",
            "Epoch 51/300\n",
            "28/28 [==============================] - 3s 97ms/step - loss: 0.0022 - val_loss: 0.0018\n",
            "Epoch 52/300\n",
            "28/28 [==============================] - 3s 95ms/step - loss: 0.0020 - val_loss: 0.0015\n",
            "Epoch 53/300\n",
            "28/28 [==============================] - 3s 97ms/step - loss: 0.0019 - val_loss: 0.0015\n",
            "Epoch 54/300\n",
            "28/28 [==============================] - 3s 97ms/step - loss: 0.0019 - val_loss: 0.0014\n",
            "Epoch 55/300\n",
            "28/28 [==============================] - 3s 98ms/step - loss: 0.0018 - val_loss: 0.0015\n",
            "Epoch 56/300\n",
            "28/28 [==============================] - 3s 95ms/step - loss: 0.0020 - val_loss: 0.0018\n",
            "Epoch 57/300\n",
            "28/28 [==============================] - 3s 97ms/step - loss: 0.0019 - val_loss: 0.0015\n",
            "Epoch 58/300\n",
            "28/28 [==============================] - 3s 97ms/step - loss: 0.0018 - val_loss: 0.0016\n",
            "Epoch 59/300\n",
            "28/28 [==============================] - 3s 96ms/step - loss: 0.0017 - val_loss: 0.0017\n",
            "Epoch 60/300\n",
            "28/28 [==============================] - 3s 100ms/step - loss: 0.0017 - val_loss: 0.0014\n",
            "Epoch 61/300\n",
            "28/28 [==============================] - 3s 95ms/step - loss: 0.0017 - val_loss: 0.0014\n",
            "Epoch 62/300\n",
            "28/28 [==============================] - 3s 97ms/step - loss: 0.0017 - val_loss: 0.0014\n",
            "Epoch 63/300\n",
            "28/28 [==============================] - 3s 97ms/step - loss: 0.0018 - val_loss: 0.0017\n",
            "Epoch 64/300\n",
            "28/28 [==============================] - 3s 95ms/step - loss: 0.0017 - val_loss: 0.0016\n",
            "Epoch 65/300\n",
            "28/28 [==============================] - 3s 98ms/step - loss: 0.0018 - val_loss: 0.0016\n",
            "Epoch 66/300\n",
            "28/28 [==============================] - 3s 97ms/step - loss: 0.0018 - val_loss: 0.0018\n",
            "Epoch 67/300\n",
            "28/28 [==============================] - 3s 97ms/step - loss: 0.0018 - val_loss: 0.0016\n",
            "Epoch 68/300\n",
            "28/28 [==============================] - 3s 96ms/step - loss: 0.0017 - val_loss: 0.0015\n",
            "Epoch 69/300\n",
            "28/28 [==============================] - 3s 96ms/step - loss: 0.0016 - val_loss: 0.0014\n",
            "Epoch 70/300\n",
            "28/28 [==============================] - 3s 99ms/step - loss: 0.0015 - val_loss: 0.0015\n",
            "Epoch 71/300\n",
            "28/28 [==============================] - 5s 163ms/step - loss: 0.0016 - val_loss: 0.0014\n",
            "Epoch 72/300\n",
            "28/28 [==============================] - 3s 97ms/step - loss: 0.0018 - val_loss: 0.0017\n",
            "Epoch 73/300\n",
            "28/28 [==============================] - 3s 97ms/step - loss: 0.0017 - val_loss: 0.0014\n",
            "Epoch 74/300\n",
            "28/28 [==============================] - 3s 97ms/step - loss: 0.0017 - val_loss: 0.0014\n",
            "Epoch 75/300\n",
            "28/28 [==============================] - 3s 96ms/step - loss: 0.0016 - val_loss: 0.0015\n",
            "Epoch 76/300\n",
            "28/28 [==============================] - 3s 96ms/step - loss: 0.0017 - val_loss: 0.0013\n",
            "Epoch 77/300\n",
            "28/28 [==============================] - 3s 97ms/step - loss: 0.0017 - val_loss: 0.0017\n",
            "Epoch 78/300\n",
            "28/28 [==============================] - 3s 95ms/step - loss: 0.0017 - val_loss: 0.0012\n",
            "Epoch 79/300\n",
            "28/28 [==============================] - 3s 100ms/step - loss: 0.0015 - val_loss: 0.0013\n",
            "Epoch 80/300\n",
            "28/28 [==============================] - 3s 98ms/step - loss: 0.0015 - val_loss: 0.0013\n",
            "Epoch 81/300\n",
            "28/28 [==============================] - 3s 99ms/step - loss: 0.0014 - val_loss: 0.0012\n",
            "Epoch 82/300\n",
            "28/28 [==============================] - 3s 96ms/step - loss: 0.0015 - val_loss: 0.0011\n",
            "Epoch 83/300\n",
            "28/28 [==============================] - 3s 95ms/step - loss: 0.0016 - val_loss: 0.0014\n",
            "Epoch 84/300\n",
            "28/28 [==============================] - 3s 98ms/step - loss: 0.0014 - val_loss: 0.0013\n",
            "Epoch 85/300\n",
            "28/28 [==============================] - 3s 96ms/step - loss: 0.0015 - val_loss: 0.0012\n",
            "Epoch 86/300\n",
            "28/28 [==============================] - 3s 95ms/step - loss: 0.0016 - val_loss: 0.0018\n",
            "Epoch 87/300\n",
            "28/28 [==============================] - 3s 97ms/step - loss: 0.0014 - val_loss: 0.0013\n",
            "Epoch 88/300\n",
            "28/28 [==============================] - 3s 98ms/step - loss: 0.0014 - val_loss: 0.0013\n",
            "Epoch 89/300\n",
            "28/28 [==============================] - 3s 96ms/step - loss: 0.0013 - val_loss: 0.0012\n",
            "Epoch 90/300\n",
            "28/28 [==============================] - 3s 97ms/step - loss: 0.0015 - val_loss: 0.0012\n",
            "Epoch 91/300\n",
            "28/28 [==============================] - 3s 97ms/step - loss: 0.0013 - val_loss: 0.0011\n",
            "Epoch 92/300\n",
            "28/28 [==============================] - 3s 99ms/step - loss: 0.0013 - val_loss: 0.0012\n",
            "Epoch 93/300\n",
            "28/28 [==============================] - 3s 98ms/step - loss: 0.0013 - val_loss: 0.0011\n",
            "Epoch 94/300\n",
            "28/28 [==============================] - 3s 95ms/step - loss: 0.0013 - val_loss: 0.0011\n",
            "Epoch 95/300\n",
            "28/28 [==============================] - 3s 96ms/step - loss: 0.0013 - val_loss: 0.0013\n",
            "Epoch 96/300\n",
            "28/28 [==============================] - 3s 97ms/step - loss: 0.0013 - val_loss: 0.0011\n",
            "Epoch 97/300\n",
            "28/28 [==============================] - 3s 96ms/step - loss: 0.0012 - val_loss: 0.0011\n",
            "Epoch 98/300\n",
            "28/28 [==============================] - 3s 98ms/step - loss: 0.0013 - val_loss: 0.0013\n",
            "Epoch 99/300\n",
            "28/28 [==============================] - 3s 99ms/step - loss: 0.0015 - val_loss: 0.0015\n",
            "Epoch 100/300\n",
            "28/28 [==============================] - 3s 98ms/step - loss: 0.0014 - val_loss: 0.0012\n",
            "Epoch 101/300\n",
            "28/28 [==============================] - 3s 96ms/step - loss: 0.0014 - val_loss: 0.0011\n",
            "Epoch 102/300\n",
            "28/28 [==============================] - 3s 97ms/step - loss: 0.0013 - val_loss: 0.0010\n",
            "Epoch 103/300\n",
            "28/28 [==============================] - 3s 96ms/step - loss: 0.0013 - val_loss: 0.0011\n",
            "Epoch 104/300\n",
            "28/28 [==============================] - 3s 98ms/step - loss: 0.0013 - val_loss: 0.0011\n",
            "Epoch 105/300\n",
            "28/28 [==============================] - 3s 97ms/step - loss: 0.0012 - val_loss: 0.0011\n",
            "Epoch 106/300\n",
            "28/28 [==============================] - 3s 96ms/step - loss: 0.0012 - val_loss: 0.0012\n",
            "Epoch 107/300\n",
            "28/28 [==============================] - 3s 97ms/step - loss: 0.0014 - val_loss: 0.0012\n",
            "Epoch 108/300\n",
            "28/28 [==============================] - 4s 160ms/step - loss: 0.0014 - val_loss: 0.0018\n",
            "Epoch 109/300\n",
            "28/28 [==============================] - 3s 100ms/step - loss: 0.0011 - val_loss: 9.5354e-04\n",
            "Epoch 110/300\n",
            "28/28 [==============================] - 3s 99ms/step - loss: 0.0011 - val_loss: 0.0010\n",
            "Epoch 111/300\n",
            "28/28 [==============================] - 3s 97ms/step - loss: 0.0012 - val_loss: 0.0010\n",
            "Epoch 112/300\n",
            "28/28 [==============================] - 3s 96ms/step - loss: 0.0012 - val_loss: 0.0011\n",
            "Epoch 113/300\n",
            "28/28 [==============================] - 3s 98ms/step - loss: 0.0012 - val_loss: 0.0011\n",
            "Epoch 114/300\n",
            "28/28 [==============================] - 3s 97ms/step - loss: 0.0013 - val_loss: 9.6689e-04\n",
            "Epoch 115/300\n",
            "28/28 [==============================] - 3s 99ms/step - loss: 0.0012 - val_loss: 9.7522e-04\n",
            "Epoch 116/300\n",
            "28/28 [==============================] - 3s 96ms/step - loss: 0.0011 - val_loss: 0.0010\n",
            "Epoch 117/300\n",
            "28/28 [==============================] - 3s 95ms/step - loss: 0.0012 - val_loss: 9.9311e-04\n",
            "Epoch 118/300\n",
            "28/28 [==============================] - 3s 98ms/step - loss: 0.0012 - val_loss: 9.7178e-04\n",
            "Epoch 119/300\n",
            "28/28 [==============================] - 3s 101ms/step - loss: 0.0011 - val_loss: 0.0011\n",
            "Epoch 120/300\n",
            "28/28 [==============================] - 3s 96ms/step - loss: 0.0012 - val_loss: 9.2697e-04\n",
            "Epoch 121/300\n",
            "28/28 [==============================] - 3s 97ms/step - loss: 0.0011 - val_loss: 0.0010\n",
            "Epoch 122/300\n",
            "28/28 [==============================] - 3s 98ms/step - loss: 0.0011 - val_loss: 0.0011\n",
            "Epoch 123/300\n",
            "28/28 [==============================] - 3s 99ms/step - loss: 0.0012 - val_loss: 9.1687e-04\n",
            "Epoch 124/300\n",
            "28/28 [==============================] - 3s 97ms/step - loss: 0.0012 - val_loss: 0.0012\n",
            "Epoch 125/300\n",
            "28/28 [==============================] - 3s 98ms/step - loss: 0.0013 - val_loss: 9.3860e-04\n",
            "Epoch 126/300\n",
            "28/28 [==============================] - 3s 98ms/step - loss: 0.0012 - val_loss: 9.1330e-04\n",
            "Epoch 127/300\n",
            "28/28 [==============================] - 3s 97ms/step - loss: 0.0012 - val_loss: 8.9777e-04\n",
            "Epoch 128/300\n",
            "28/28 [==============================] - 3s 97ms/step - loss: 0.0011 - val_loss: 9.2913e-04\n",
            "Epoch 129/300\n",
            "28/28 [==============================] - 3s 98ms/step - loss: 0.0012 - val_loss: 0.0011\n",
            "Epoch 130/300\n",
            "28/28 [==============================] - 3s 98ms/step - loss: 0.0011 - val_loss: 0.0011\n",
            "Epoch 131/300\n",
            "28/28 [==============================] - 3s 98ms/step - loss: 0.0011 - val_loss: 9.5002e-04\n",
            "Epoch 132/300\n",
            "28/28 [==============================] - 3s 100ms/step - loss: 0.0014 - val_loss: 0.0011\n",
            "Epoch 133/300\n",
            "28/28 [==============================] - 3s 98ms/step - loss: 0.0011 - val_loss: 9.6569e-04\n",
            "Epoch 134/300\n",
            "28/28 [==============================] - 3s 97ms/step - loss: 0.0010 - val_loss: 9.2518e-04\n",
            "Epoch 135/300\n",
            "28/28 [==============================] - 3s 96ms/step - loss: 0.0011 - val_loss: 8.9523e-04\n",
            "Epoch 136/300\n",
            "28/28 [==============================] - 3s 97ms/step - loss: 0.0011 - val_loss: 0.0012\n",
            "Epoch 137/300\n",
            "28/28 [==============================] - 3s 97ms/step - loss: 0.0011 - val_loss: 9.5828e-04\n",
            "Epoch 138/300\n",
            "28/28 [==============================] - 3s 96ms/step - loss: 0.0010 - val_loss: 9.0841e-04\n",
            "Epoch 139/300\n",
            "28/28 [==============================] - 3s 97ms/step - loss: 9.9604e-04 - val_loss: 9.3162e-04\n",
            "Epoch 140/300\n",
            "28/28 [==============================] - 3s 97ms/step - loss: 9.7357e-04 - val_loss: 9.8305e-04\n",
            "Epoch 141/300\n",
            "28/28 [==============================] - 3s 98ms/step - loss: 0.0011 - val_loss: 8.7390e-04\n",
            "Epoch 142/300\n",
            "28/28 [==============================] - 3s 97ms/step - loss: 0.0011 - val_loss: 9.8933e-04\n",
            "Epoch 143/300\n",
            "28/28 [==============================] - 3s 96ms/step - loss: 0.0011 - val_loss: 9.6771e-04\n",
            "Epoch 144/300\n",
            "28/28 [==============================] - 3s 99ms/step - loss: 0.0011 - val_loss: 0.0012\n",
            "Epoch 145/300\n",
            "28/28 [==============================] - 5s 168ms/step - loss: 0.0012 - val_loss: 0.0013\n",
            "Epoch 146/300\n",
            "28/28 [==============================] - 3s 100ms/step - loss: 0.0012 - val_loss: 9.7943e-04\n",
            "Epoch 147/300\n",
            "28/28 [==============================] - 3s 101ms/step - loss: 0.0012 - val_loss: 8.8459e-04\n",
            "Epoch 148/300\n",
            "28/28 [==============================] - 3s 99ms/step - loss: 9.1595e-04 - val_loss: 9.7433e-04\n",
            "Epoch 149/300\n",
            "28/28 [==============================] - 3s 98ms/step - loss: 9.5302e-04 - val_loss: 9.2828e-04\n",
            "Epoch 150/300\n",
            "28/28 [==============================] - 3s 97ms/step - loss: 9.8374e-04 - val_loss: 8.9603e-04\n",
            "Epoch 151/300\n",
            "28/28 [==============================] - 3s 99ms/step - loss: 9.7550e-04 - val_loss: 9.0759e-04\n",
            "Epoch 152/300\n",
            "28/28 [==============================] - 3s 100ms/step - loss: 9.0778e-04 - val_loss: 0.0013\n",
            "Epoch 153/300\n",
            "28/28 [==============================] - 3s 98ms/step - loss: 0.0011 - val_loss: 8.6412e-04\n",
            "Epoch 154/300\n",
            "28/28 [==============================] - 3s 98ms/step - loss: 9.2942e-04 - val_loss: 9.2570e-04\n",
            "Epoch 155/300\n",
            "28/28 [==============================] - 3s 97ms/step - loss: 0.0010 - val_loss: 9.0137e-04\n",
            "Epoch 156/300\n",
            "28/28 [==============================] - 3s 98ms/step - loss: 0.0011 - val_loss: 0.0010\n",
            "Epoch 157/300\n",
            "28/28 [==============================] - 3s 99ms/step - loss: 0.0010 - val_loss: 9.0315e-04\n",
            "Epoch 158/300\n",
            "28/28 [==============================] - 3s 101ms/step - loss: 0.0010 - val_loss: 9.1598e-04\n",
            "Epoch 159/300\n",
            "28/28 [==============================] - 4s 147ms/step - loss: 0.0010 - val_loss: 9.0048e-04\n",
            "Epoch 160/300\n",
            "28/28 [==============================] - 3s 101ms/step - loss: 9.5300e-04 - val_loss: 8.4328e-04\n",
            "Epoch 161/300\n",
            "28/28 [==============================] - 3s 98ms/step - loss: 0.0012 - val_loss: 0.0013\n",
            "Epoch 162/300\n",
            "28/28 [==============================] - 3s 101ms/step - loss: 0.0012 - val_loss: 8.5379e-04\n",
            "Epoch 163/300\n",
            "28/28 [==============================] - 3s 96ms/step - loss: 0.0010 - val_loss: 8.8527e-04\n",
            "Epoch 164/300\n",
            "28/28 [==============================] - 3s 99ms/step - loss: 9.6161e-04 - val_loss: 7.9055e-04\n",
            "Epoch 165/300\n",
            "28/28 [==============================] - 3s 97ms/step - loss: 0.0010 - val_loss: 9.0511e-04\n",
            "Epoch 166/300\n",
            "28/28 [==============================] - 3s 98ms/step - loss: 0.0010 - val_loss: 8.1217e-04\n",
            "Epoch 167/300\n",
            "28/28 [==============================] - 3s 101ms/step - loss: 8.3608e-04 - val_loss: 8.1495e-04\n",
            "Epoch 168/300\n",
            "28/28 [==============================] - 3s 104ms/step - loss: 9.5993e-04 - val_loss: 0.0012\n",
            "Epoch 169/300\n",
            "28/28 [==============================] - 3s 98ms/step - loss: 9.4172e-04 - val_loss: 8.7276e-04\n",
            "Epoch 170/300\n",
            "28/28 [==============================] - 3s 97ms/step - loss: 9.8748e-04 - val_loss: 7.8573e-04\n",
            "Epoch 171/300\n",
            "28/28 [==============================] - 3s 97ms/step - loss: 8.9182e-04 - val_loss: 8.5727e-04\n",
            "Epoch 172/300\n",
            "28/28 [==============================] - 3s 100ms/step - loss: 9.2592e-04 - val_loss: 8.5412e-04\n",
            "Epoch 173/300\n",
            "28/28 [==============================] - 3s 99ms/step - loss: 8.5411e-04 - val_loss: 8.2628e-04\n",
            "Epoch 174/300\n",
            "28/28 [==============================] - 3s 97ms/step - loss: 0.0010 - val_loss: 8.0662e-04\n",
            "Epoch 175/300\n",
            "28/28 [==============================] - 3s 101ms/step - loss: 9.3432e-04 - val_loss: 8.1528e-04\n",
            "Epoch 176/300\n",
            "28/28 [==============================] - 3s 97ms/step - loss: 8.4437e-04 - val_loss: 9.9455e-04\n",
            "Epoch 177/300\n",
            "28/28 [==============================] - 3s 97ms/step - loss: 0.0011 - val_loss: 9.0260e-04\n",
            "Epoch 178/300\n",
            "28/28 [==============================] - 3s 97ms/step - loss: 8.4402e-04 - val_loss: 8.4205e-04\n",
            "Epoch 179/300\n",
            "28/28 [==============================] - 3s 97ms/step - loss: 9.6528e-04 - val_loss: 8.7668e-04\n",
            "Epoch 180/300\n",
            "28/28 [==============================] - 3s 100ms/step - loss: 9.4117e-04 - val_loss: 8.5911e-04\n",
            "Epoch 181/300\n",
            "28/28 [==============================] - 4s 159ms/step - loss: 9.4385e-04 - val_loss: 7.8071e-04\n",
            "Epoch 182/300\n",
            "28/28 [==============================] - 3s 103ms/step - loss: 8.5534e-04 - val_loss: 8.5176e-04\n",
            "Epoch 183/300\n",
            "28/28 [==============================] - 3s 101ms/step - loss: 8.4860e-04 - val_loss: 8.2393e-04\n",
            "Epoch 184/300\n",
            "28/28 [==============================] - 3s 100ms/step - loss: 8.8466e-04 - val_loss: 7.8201e-04\n",
            "Epoch 185/300\n",
            "28/28 [==============================] - 3s 96ms/step - loss: 8.7345e-04 - val_loss: 8.0968e-04\n",
            "Epoch 186/300\n",
            "28/28 [==============================] - 3s 97ms/step - loss: 8.3051e-04 - val_loss: 8.4055e-04\n",
            "Epoch 187/300\n",
            "28/28 [==============================] - 3s 98ms/step - loss: 8.4002e-04 - val_loss: 7.2354e-04\n",
            "Epoch 188/300\n",
            "28/28 [==============================] - 3s 97ms/step - loss: 8.8731e-04 - val_loss: 7.9131e-04\n",
            "Epoch 189/300\n",
            "28/28 [==============================] - 3s 102ms/step - loss: 7.8706e-04 - val_loss: 7.9877e-04\n",
            "Epoch 190/300\n",
            "28/28 [==============================] - 3s 98ms/step - loss: 8.0860e-04 - val_loss: 7.2459e-04\n",
            "Epoch 191/300\n",
            "28/28 [==============================] - 3s 98ms/step - loss: 8.2164e-04 - val_loss: 9.5235e-04\n",
            "Epoch 192/300\n",
            "28/28 [==============================] - 3s 99ms/step - loss: 8.6441e-04 - val_loss: 7.3676e-04\n",
            "Epoch 193/300\n",
            "28/28 [==============================] - 3s 97ms/step - loss: 8.7849e-04 - val_loss: 8.0424e-04\n",
            "Epoch 194/300\n",
            "28/28 [==============================] - 3s 98ms/step - loss: 8.2086e-04 - val_loss: 9.4153e-04\n",
            "Epoch 195/300\n",
            "28/28 [==============================] - 3s 97ms/step - loss: 7.7493e-04 - val_loss: 7.8960e-04\n",
            "Epoch 196/300\n",
            "28/28 [==============================] - 3s 98ms/step - loss: 9.7847e-04 - val_loss: 8.9956e-04\n",
            "Epoch 197/300\n",
            "28/28 [==============================] - 3s 97ms/step - loss: 7.9261e-04 - val_loss: 7.7507e-04\n",
            "Epoch 198/300\n",
            "28/28 [==============================] - 3s 102ms/step - loss: 8.2662e-04 - val_loss: 7.5523e-04\n",
            "Epoch 199/300\n",
            "28/28 [==============================] - 3s 97ms/step - loss: 8.1196e-04 - val_loss: 7.6541e-04\n",
            "Epoch 200/300\n",
            "28/28 [==============================] - 3s 101ms/step - loss: 8.0042e-04 - val_loss: 7.2230e-04\n",
            "Epoch 201/300\n",
            "28/28 [==============================] - 3s 100ms/step - loss: 8.1149e-04 - val_loss: 8.4574e-04\n",
            "Epoch 202/300\n",
            "28/28 [==============================] - 3s 99ms/step - loss: 8.6080e-04 - val_loss: 8.2089e-04\n",
            "Epoch 203/300\n",
            "28/28 [==============================] - 3s 99ms/step - loss: 8.2477e-04 - val_loss: 7.8266e-04\n",
            "Epoch 204/300\n",
            "28/28 [==============================] - 3s 96ms/step - loss: 8.4962e-04 - val_loss: 7.2665e-04\n",
            "Epoch 205/300\n",
            "28/28 [==============================] - 3s 100ms/step - loss: 8.8776e-04 - val_loss: 8.3991e-04\n",
            "Epoch 206/300\n",
            "28/28 [==============================] - 3s 101ms/step - loss: 8.5688e-04 - val_loss: 8.7366e-04\n",
            "Epoch 207/300\n",
            "28/28 [==============================] - 3s 97ms/step - loss: 8.4921e-04 - val_loss: 7.0518e-04\n",
            "Epoch 208/300\n",
            "28/28 [==============================] - 3s 101ms/step - loss: 7.4484e-04 - val_loss: 7.8025e-04\n",
            "Epoch 209/300\n",
            "28/28 [==============================] - 3s 101ms/step - loss: 7.7309e-04 - val_loss: 7.6066e-04\n",
            "Epoch 210/300\n",
            "28/28 [==============================] - 3s 97ms/step - loss: 7.9658e-04 - val_loss: 7.4763e-04\n",
            "Epoch 211/300\n",
            "28/28 [==============================] - 3s 97ms/step - loss: 7.8153e-04 - val_loss: 7.9515e-04\n",
            "Epoch 212/300\n",
            "28/28 [==============================] - 3s 97ms/step - loss: 9.1555e-04 - val_loss: 7.7273e-04\n",
            "Epoch 213/300\n",
            "28/28 [==============================] - 3s 99ms/step - loss: 8.6725e-04 - val_loss: 7.6836e-04\n",
            "Epoch 214/300\n",
            "28/28 [==============================] - 3s 101ms/step - loss: 7.0064e-04 - val_loss: 7.5088e-04\n",
            "Epoch 215/300\n",
            "28/28 [==============================] - 3s 98ms/step - loss: 7.2462e-04 - val_loss: 6.6835e-04\n",
            "Epoch 216/300\n",
            "28/28 [==============================] - 3s 98ms/step - loss: 7.5566e-04 - val_loss: 6.7226e-04\n",
            "Epoch 217/300\n",
            "28/28 [==============================] - 3s 118ms/step - loss: 7.3710e-04 - val_loss: 7.7411e-04\n",
            "Epoch 218/300\n",
            "28/28 [==============================] - 4s 148ms/step - loss: 7.8626e-04 - val_loss: 7.5949e-04\n",
            "Epoch 219/300\n",
            "28/28 [==============================] - 3s 100ms/step - loss: 7.0012e-04 - val_loss: 7.2602e-04\n",
            "Epoch 220/300\n",
            "28/28 [==============================] - 3s 99ms/step - loss: 8.4788e-04 - val_loss: 0.0013\n",
            "Epoch 221/300\n",
            "28/28 [==============================] - 3s 98ms/step - loss: 9.6068e-04 - val_loss: 7.0151e-04\n",
            "Epoch 222/300\n",
            "28/28 [==============================] - 3s 103ms/step - loss: 7.8199e-04 - val_loss: 7.1870e-04\n",
            "Epoch 223/300\n",
            "28/28 [==============================] - 3s 98ms/step - loss: 7.7778e-04 - val_loss: 6.9829e-04\n",
            "Epoch 224/300\n",
            "28/28 [==============================] - 3s 99ms/step - loss: 7.0454e-04 - val_loss: 7.6850e-04\n",
            "Epoch 225/300\n",
            "28/28 [==============================] - 3s 98ms/step - loss: 7.0635e-04 - val_loss: 7.3387e-04\n",
            "Epoch 226/300\n",
            "28/28 [==============================] - 3s 100ms/step - loss: 7.1134e-04 - val_loss: 7.1833e-04\n",
            "Epoch 227/300\n",
            "28/28 [==============================] - 3s 96ms/step - loss: 7.4819e-04 - val_loss: 9.8200e-04\n",
            "Epoch 228/300\n",
            "28/28 [==============================] - 3s 103ms/step - loss: 9.3766e-04 - val_loss: 0.0011\n",
            "Epoch 229/300\n",
            "28/28 [==============================] - 3s 98ms/step - loss: 7.7735e-04 - val_loss: 7.0725e-04\n",
            "Epoch 230/300\n",
            "28/28 [==============================] - 3s 98ms/step - loss: 7.8041e-04 - val_loss: 7.0716e-04\n",
            "Epoch 231/300\n",
            "28/28 [==============================] - 3s 100ms/step - loss: 7.4130e-04 - val_loss: 6.6225e-04\n",
            "Epoch 232/300\n",
            "28/28 [==============================] - 3s 99ms/step - loss: 7.7137e-04 - val_loss: 7.3897e-04\n",
            "Epoch 233/300\n",
            "28/28 [==============================] - 3s 98ms/step - loss: 6.7464e-04 - val_loss: 8.3317e-04\n",
            "Epoch 234/300\n",
            "28/28 [==============================] - 3s 98ms/step - loss: 6.0620e-04 - val_loss: 7.1916e-04\n",
            "Epoch 235/300\n",
            "28/28 [==============================] - 3s 99ms/step - loss: 7.7571e-04 - val_loss: 7.3154e-04\n",
            "Epoch 236/300\n",
            "28/28 [==============================] - 3s 100ms/step - loss: 7.3162e-04 - val_loss: 7.6566e-04\n",
            "Epoch 237/300\n",
            "28/28 [==============================] - 3s 100ms/step - loss: 6.7411e-04 - val_loss: 7.0742e-04\n",
            "Epoch 238/300\n",
            "28/28 [==============================] - 3s 98ms/step - loss: 6.1094e-04 - val_loss: 7.1638e-04\n",
            "Epoch 239/300\n",
            "28/28 [==============================] - 3s 100ms/step - loss: 6.4979e-04 - val_loss: 7.3193e-04\n",
            "Epoch 240/300\n",
            "28/28 [==============================] - 3s 99ms/step - loss: 6.6104e-04 - val_loss: 9.7128e-04\n",
            "Epoch 241/300\n",
            "28/28 [==============================] - 3s 97ms/step - loss: 7.1720e-04 - val_loss: 6.8803e-04\n",
            "Epoch 242/300\n",
            "28/28 [==============================] - 3s 98ms/step - loss: 7.7254e-04 - val_loss: 7.4864e-04\n",
            "Epoch 243/300\n",
            "28/28 [==============================] - 3s 100ms/step - loss: 6.7317e-04 - val_loss: 8.2896e-04\n",
            "Epoch 244/300\n",
            "28/28 [==============================] - 3s 98ms/step - loss: 8.9148e-04 - val_loss: 9.2136e-04\n",
            "Epoch 245/300\n",
            "28/28 [==============================] - 3s 97ms/step - loss: 7.2605e-04 - val_loss: 6.7016e-04\n",
            "Epoch 246/300\n",
            "28/28 [==============================] - 3s 99ms/step - loss: 6.6477e-04 - val_loss: 7.2070e-04\n",
            "Epoch 247/300\n",
            "28/28 [==============================] - 3s 99ms/step - loss: 6.8567e-04 - val_loss: 7.1408e-04\n",
            "Epoch 248/300\n",
            "28/28 [==============================] - 3s 98ms/step - loss: 6.7154e-04 - val_loss: 8.4436e-04\n",
            "Epoch 249/300\n",
            "28/28 [==============================] - 3s 98ms/step - loss: 7.4304e-04 - val_loss: 7.0559e-04\n",
            "Epoch 250/300\n",
            "28/28 [==============================] - 3s 98ms/step - loss: 7.4597e-04 - val_loss: 6.8626e-04\n",
            "Epoch 251/300\n",
            "28/28 [==============================] - 3s 98ms/step - loss: 6.6797e-04 - val_loss: 7.0793e-04\n",
            "Epoch 252/300\n",
            "28/28 [==============================] - 3s 97ms/step - loss: 6.6669e-04 - val_loss: 7.3058e-04\n",
            "Epoch 253/300\n",
            "28/28 [==============================] - 3s 98ms/step - loss: 7.0425e-04 - val_loss: 8.6530e-04\n",
            "Epoch 254/300\n",
            "28/28 [==============================] - 5s 166ms/step - loss: 7.2437e-04 - val_loss: 7.7643e-04\n",
            "Epoch 255/300\n",
            "28/28 [==============================] - 3s 98ms/step - loss: 7.0158e-04 - val_loss: 7.5199e-04\n",
            "Epoch 256/300\n",
            "28/28 [==============================] - 3s 97ms/step - loss: 8.0163e-04 - val_loss: 6.9826e-04\n",
            "Epoch 257/300\n",
            "28/28 [==============================] - 3s 99ms/step - loss: 6.3505e-04 - val_loss: 6.9036e-04\n",
            "Epoch 258/300\n",
            "28/28 [==============================] - 3s 98ms/step - loss: 7.1665e-04 - val_loss: 7.7598e-04\n",
            "Epoch 259/300\n",
            "28/28 [==============================] - 3s 99ms/step - loss: 6.9211e-04 - val_loss: 8.1536e-04\n",
            "Epoch 260/300\n",
            "28/28 [==============================] - 3s 100ms/step - loss: 6.8925e-04 - val_loss: 7.0503e-04\n",
            "Epoch 261/300\n",
            "28/28 [==============================] - 3s 103ms/step - loss: 7.9364e-04 - val_loss: 0.0011\n",
            "Epoch 262/300\n",
            "28/28 [==============================] - 3s 97ms/step - loss: 7.2980e-04 - val_loss: 7.9777e-04\n",
            "Epoch 263/300\n",
            "28/28 [==============================] - 3s 100ms/step - loss: 7.1463e-04 - val_loss: 7.0524e-04\n",
            "Epoch 264/300\n",
            "28/28 [==============================] - 3s 101ms/step - loss: 7.1140e-04 - val_loss: 6.8850e-04\n",
            "Epoch 265/300\n",
            "28/28 [==============================] - 3s 101ms/step - loss: 6.5459e-04 - val_loss: 8.8222e-04\n",
            "Epoch 266/300\n",
            "28/28 [==============================] - 3s 98ms/step - loss: 7.1807e-04 - val_loss: 7.0022e-04\n",
            "Epoch 267/300\n",
            "28/28 [==============================] - 3s 97ms/step - loss: 6.8912e-04 - val_loss: 6.9324e-04\n",
            "Epoch 268/300\n",
            "28/28 [==============================] - 3s 100ms/step - loss: 7.2172e-04 - val_loss: 7.1910e-04\n",
            "Epoch 269/300\n",
            "28/28 [==============================] - 3s 99ms/step - loss: 6.1263e-04 - val_loss: 7.3059e-04\n",
            "Epoch 270/300\n",
            "28/28 [==============================] - 3s 101ms/step - loss: 6.7791e-04 - val_loss: 7.7620e-04\n",
            "Epoch 271/300\n",
            "28/28 [==============================] - 3s 99ms/step - loss: 6.3367e-04 - val_loss: 6.5528e-04\n",
            "Epoch 272/300\n",
            "28/28 [==============================] - 3s 101ms/step - loss: 6.0669e-04 - val_loss: 6.7887e-04\n",
            "Epoch 273/300\n",
            "28/28 [==============================] - 3s 100ms/step - loss: 7.0971e-04 - val_loss: 7.0799e-04\n",
            "Epoch 274/300\n",
            "28/28 [==============================] - 3s 98ms/step - loss: 6.5737e-04 - val_loss: 7.1738e-04\n",
            "Epoch 275/300\n",
            "28/28 [==============================] - 3s 98ms/step - loss: 5.7373e-04 - val_loss: 6.9492e-04\n",
            "Epoch 276/300\n",
            "28/28 [==============================] - 3s 97ms/step - loss: 6.5938e-04 - val_loss: 9.2461e-04\n",
            "Epoch 277/300\n",
            "28/28 [==============================] - 3s 98ms/step - loss: 6.7665e-04 - val_loss: 7.4324e-04\n",
            "Epoch 278/300\n",
            "28/28 [==============================] - 3s 98ms/step - loss: 6.5894e-04 - val_loss: 7.7716e-04\n",
            "Epoch 279/300\n",
            "28/28 [==============================] - 3s 101ms/step - loss: 7.0753e-04 - val_loss: 8.1344e-04\n",
            "Epoch 280/300\n",
            "28/28 [==============================] - 3s 98ms/step - loss: 5.9759e-04 - val_loss: 6.7694e-04\n",
            "Epoch 281/300\n",
            "28/28 [==============================] - 3s 99ms/step - loss: 7.1154e-04 - val_loss: 8.6555e-04\n",
            "Epoch 282/300\n",
            "28/28 [==============================] - 3s 100ms/step - loss: 6.9033e-04 - val_loss: 7.3437e-04\n",
            "Epoch 283/300\n",
            "28/28 [==============================] - 3s 99ms/step - loss: 7.0161e-04 - val_loss: 8.1715e-04\n",
            "Epoch 284/300\n",
            "28/28 [==============================] - 3s 100ms/step - loss: 6.3676e-04 - val_loss: 8.6890e-04\n",
            "Epoch 285/300\n",
            "28/28 [==============================] - 3s 99ms/step - loss: 7.9105e-04 - val_loss: 8.6162e-04\n",
            "Epoch 286/300\n",
            "28/28 [==============================] - 3s 98ms/step - loss: 7.2414e-04 - val_loss: 6.7693e-04\n",
            "Epoch 287/300\n",
            "28/28 [==============================] - 3s 99ms/step - loss: 6.6703e-04 - val_loss: 7.2326e-04\n",
            "Epoch 288/300\n",
            "28/28 [==============================] - 3s 99ms/step - loss: 6.0095e-04 - val_loss: 7.0045e-04\n",
            "Epoch 289/300\n",
            "28/28 [==============================] - 3s 100ms/step - loss: 6.3565e-04 - val_loss: 6.9171e-04\n",
            "Epoch 290/300\n",
            "28/28 [==============================] - 5s 168ms/step - loss: 6.0665e-04 - val_loss: 6.7839e-04\n",
            "Epoch 291/300\n",
            "28/28 [==============================] - 3s 99ms/step - loss: 6.2489e-04 - val_loss: 8.9882e-04\n",
            "Epoch 292/300\n",
            "28/28 [==============================] - 3s 100ms/step - loss: 6.5629e-04 - val_loss: 7.4325e-04\n",
            "Epoch 293/300\n",
            "28/28 [==============================] - 3s 99ms/step - loss: 5.8869e-04 - val_loss: 6.5403e-04\n",
            "Epoch 294/300\n",
            "28/28 [==============================] - 3s 99ms/step - loss: 6.0802e-04 - val_loss: 7.2986e-04\n",
            "Epoch 295/300\n",
            "28/28 [==============================] - 3s 98ms/step - loss: 6.4407e-04 - val_loss: 7.9261e-04\n",
            "Epoch 296/300\n",
            "28/28 [==============================] - 3s 99ms/step - loss: 8.2693e-04 - val_loss: 8.2260e-04\n",
            "Epoch 297/300\n",
            "28/28 [==============================] - 3s 99ms/step - loss: 7.2828e-04 - val_loss: 7.7380e-04\n",
            "Epoch 298/300\n",
            "28/28 [==============================] - 3s 98ms/step - loss: 6.5252e-04 - val_loss: 6.6373e-04\n",
            "Epoch 299/300\n",
            "28/28 [==============================] - 3s 98ms/step - loss: 6.1396e-04 - val_loss: 7.1434e-04\n",
            "Epoch 300/300\n",
            "28/28 [==============================] - 3s 100ms/step - loss: 6.9080e-04 - val_loss: 7.1270e-04\n"
          ]
        }
      ]
    },
    {
      "cell_type": "code",
      "source": [
        "results = model.evaluate(X_test, y_test)\n",
        "results"
      ],
      "metadata": {
        "colab": {
          "base_uri": "https://localhost:8080/"
        },
        "id": "gNLDc-uKINcl",
        "outputId": "38c3a3a3-9975-4433-a5da-f356f0b0793f"
      },
      "execution_count": 39,
      "outputs": [
        {
          "output_type": "stream",
          "name": "stdout",
          "text": [
            "8/8 [==============================] - 0s 28ms/step - loss: 7.4937e-04\n"
          ]
        },
        {
          "output_type": "execute_result",
          "data": {
            "text/plain": [
              "0.0007493685116060078"
            ]
          },
          "metadata": {},
          "execution_count": 39
        }
      ]
    },
    {
      "cell_type": "code",
      "source": [
        "predictions = model.predict(X_test)"
      ],
      "metadata": {
        "id": "46YpT03AL57B"
      },
      "execution_count": 40,
      "outputs": []
    },
    {
      "cell_type": "code",
      "source": [
        "figure(figsize=(15, 5))\n",
        "plt.plot(y_test)\n",
        "plt.plot(predictions)\n",
        "plt.xlabel('time')\n",
        "plt.ylabel('price-scaled')\n",
        "plt.legend(['traget', 'predict'])\n",
        "plt.show()"
      ],
      "metadata": {
        "colab": {
          "base_uri": "https://localhost:8080/",
          "height": 334
        },
        "id": "sSeewVXjMKg3",
        "outputId": "0e782ef8-2927-477c-c927-9bfd6f2de524"
      },
      "execution_count": 44,
      "outputs": [
        {
          "output_type": "display_data",
          "data": {
            "text/plain": [
              "<Figure size 1080x360 with 1 Axes>"
            ],
            "image/png": "[encoded data removed]"
          },
          "metadata": {
            "needs_background": "light"
          }
        }
      ]
    },
    {
      "cell_type": "code",
      "source": [
        "from sklearn.metrics import r2_score\n",
        "r2_score(y_test, predictions)"
      ],
      "metadata": {
        "colab": {
          "base_uri": "https://localhost:8080/"
        },
        "id": "lyK0hjAFMXcu",
        "outputId": "1c2e895a-7b27-46e7-e71c-024cc5dd16a3"
      },
      "execution_count": 45,
      "outputs": [
        {
          "output_type": "execute_result",
          "data": {
            "text/plain": [
              "0.9880812310435397"
            ]
          },
          "metadata": {},
          "execution_count": 45
        }
      ]
    },
    {
      "cell_type": "code",
      "source": [
        "tomorrow_prediction = model.predict(X_meta_close[-1:, :])\n",
        "tomorrow = scaler.inverse_transform(tomorrow_prediction)\n",
        "tomorrow"
      ],
      "metadata": {
        "colab": {
          "base_uri": "https://localhost:8080/"
        },
        "id": "ZyGYlF4pNq7F",
        "outputId": "f2691cdb-8f7b-49b0-8d91-b6e6c89e15cf"
      },
      "execution_count": 46,
      "outputs": [
        {
          "output_type": "execute_result",
          "data": {
            "text/plain": [
              "array([[167.36696]], dtype=float32)"
            ]
          },
          "metadata": {},
          "execution_count": 46
        }
      ]
    },
    {
      "cell_type": "code",
      "source": [],
      "metadata": {
        "id": "6KwDDdO5ODdM"
      },
      "execution_count": null,
      "outputs": []
    }
  ]
}